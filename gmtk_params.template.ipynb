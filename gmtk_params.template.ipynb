{
 "cells": [
  {
   "cell_type": "code",
   "execution_count": 1,
   "metadata": {
    "collapsed": true,
    "nbpresent": {
     "id": "dab1a3c8-d93c-4dac-b285-d227b7b15d67"
    }
   },
   "outputs": [],
   "source": [
    "%matplotlib inline"
   ]
  },
  {
   "cell_type": "markdown",
   "metadata": {
    "nbpresent": {
     "id": "5d2d7fd0-f813-4ebd-bf89-ef5e9ddc77db"
    }
   },
   "source": [
    "## Imports"
   ]
  },
  {
   "cell_type": "code",
   "execution_count": 2,
   "metadata": {
    "collapsed": true,
    "nbpresent": {
     "id": "e5b3eb20-e6e7-494b-9a25-dcce29623110"
    }
   },
   "outputs": [],
   "source": [
    "import re\n",
    "import string\n",
    "import os\n",
    "from itertools import product\n",
    "\n",
    "import numpy as np\n",
    "import matplotlib as mpl\n",
    "import matplotlib.pyplot as plt\n",
    "import matplotlib.patches as mpatches\n",
    "from matplotlib import rcParams\n",
    "\n",
    "import scipy.cluster.hierarchy as sch\n",
    "from scipy.spatial.distance import pdist\n",
    "\n",
    "import pandas as pd\n",
    "import seaborn as sns\n",
    "# sns.set_context('talk')"
   ]
  },
  {
   "cell_type": "code",
   "execution_count": 3,
   "metadata": {
    "collapsed": true
   },
   "outputs": [],
   "source": [
    "def unescape_trackname(name):\n",
    "    \"\"\"Returns a string where all the hexadicimal sub-strings are decoded.\n",
    "\n",
    "    gmtk converts non-alphanumerical character to hexadecimal and prepend\n",
    "    an underscore. For example the the following track name \"abc+\"\n",
    "    is converted to \"abc_2B\".\n",
    "\n",
    "    This function finds the occurences of \"_XX\" and replaces it with its decoded version.\n",
    "\n",
    "    >>> some_name = 'endswithaplus_2B'\n",
    "    >>> unescape_trackname(some_name)\n",
    "    endswithaplus+\n",
    "    \"\"\"\n",
    "\n",
    "    gmtk_hexa_pattern = re.compile('_[0-9a-fA-F]{2}')\n",
    "\n",
    "    for found_pattern in gmtk_hexa_pattern.findall(name):\n",
    "        hexa_string = found_pattern.replace('_', '')\n",
    "        hexa_string_decoded = hexa_string.decode('hex')\n",
    "\n",
    "        name = name.replace(found_pattern, hexa_string_decoded)\n",
    "\n",
    "    return name"
   ]
  },
  {
   "cell_type": "code",
   "execution_count": 4,
   "metadata": {
    "collapsed": true
   },
   "outputs": [],
   "source": [
    "def gmtk_means_to_df(filename):\n",
    "    # Load all the lines in a list\n",
    "    with open(filename, 'r') as file_handler:\n",
    "        param_lines = [line.strip() for line in file_handler]\n",
    "\n",
    "    # Here I assume that lines of interest start with the following pattern\n",
    "    mean_seg_line_re = re.compile('mean_seg(\\d+)_subseg\\d+_(\\w+)_component\\d+ \\d (.*)')\n",
    "    mean_seg_lines = filter(mean_seg_line_re.match, param_lines)\n",
    "\n",
    "    # Extract label, mean and track name information and store it in a list of tuple\n",
    "    label_track_mean_tuples = [mean_seg_line_re.match(line).groups() for line in mean_seg_lines]\n",
    "\n",
    "    gmtk_df = pd.DataFrame(label_track_mean_tuples, columns=['label', 'track', 'gmtk_mean'])\n",
    "\n",
    "    # decode hexadecimal string\n",
    "    gmtk_df.track = gmtk_df.track.map(unescape_trackname)\n",
    "\n",
    "    # convert dataframe to a matrix\n",
    "    gmtk_matrix = gmtk_df.pivot(values='gmtk_mean', index='track', columns='label').astype(float)\n",
    "\n",
    "    return gmtk_matrix"
   ]
  },
  {
   "cell_type": "code",
   "execution_count": 5,
   "metadata": {
    "collapsed": true
   },
   "outputs": [],
   "source": [
    "def annotate_heatmap(annotation_df, ax, text_kws={}):\n",
    "    \"\"\" (DataFrame, Axis) -> None\n",
    "    \n",
    "    pre-condition: annotation_df.shape == ax.shape\n",
    "    \n",
    "    Write annotations from annotation_df in the heatmap within ax.\n",
    "    \"\"\"\n",
    "    text_props = dict(color='black', fontsize=12, ha='center', va='center')\n",
    "    text_props.update(text_kws)\n",
    "    \n",
    "    # reverse indexes to matches the heatmap axes\n",
    "    reversed_df = annotation_df.iloc[::-1]\n",
    "    row_indexes, col_indexes = map(range, reversed_df.shape)\n",
    "    \n",
    "    for row_index, col_index in product(row_indexes, col_indexes):\n",
    "\n",
    "        text = reversed_df.iloc[row_index, col_index]\n",
    "        \n",
    "        ax.annotate(text, (col_index + 0.5, row_index + 0.5), **text_props)"
   ]
  },
  {
   "cell_type": "code",
   "execution_count": 6,
   "metadata": {
    "collapsed": true
   },
   "outputs": [],
   "source": [
    "GMTK_OUTPUT_DIR = 'gmtk_params'\n",
    "\n",
    "if not os.path.exists(GMTK_OUTPUT_DIR):\n",
    "    os.mkdir(GMTK_OUTPUT_DIR)"
   ]
  },
  {
   "cell_type": "markdown",
   "metadata": {},
   "source": [
    "## Define annotation heatmap (Edit)"
   ]
  },
  {
   "cell_type": "markdown",
   "metadata": {},
   "source": [
    "The following DataFrame (DF) is use to draw an annotation heatmap next to the gmtk parameter heatmap. The DF should contain 3 columns:\n",
    "- name: the full name of the annotation displayed in the legend\n",
    "- shortname: a short version of the full name that should fit in a heatmap bin\n",
    "- color: the color used in the annotation heatmap\n"
   ]
  },
  {
   "cell_type": "code",
   "execution_count": 7,
   "metadata": {
    "collapsed": true
   },
   "outputs": [],
   "source": [
    "# load 18 colors from Pastel1 and Pastel2\n",
    "# colors are used in the annotation heatmap\n",
    "pastel1 = sns.color_palette('Pastel1', 9).as_hex()\n",
    "pastel2 = sns.color_palette('Pastel2', 9).as_hex()\n",
    "\n",
    "custom_pal = pastel1 + pastel2\n",
    "\n",
    "annotation_info = pd.DataFrame([\n",
    "    {'name': 'Annotation1', 'shortname':'A1', 'color': custom_pal[0]}, #8\n",
    "    {'name': 'Annotation2', 'shortname':'A2', 'color': custom_pal[2]},\n",
    "    {'name': 'Annotation3', 'shortname':'A3', 'color': custom_pal[3]},\n",
    "    {'name': 'Annotation4', 'shortname':'A4', 'color': custom_pal[4]},\n",
    "    {'name': 'Annotation5', 'shortname':'A5', 'color': custom_pal[5]},\n",
    "    {'name': 'Annotation6', 'shortname':'A6', 'color': custom_pal[6]},\n",
    "    {'name': 'Annotation7', 'shortname':'A7', 'color': custom_pal[7]},\n",
    "    {'name': 'Annotation8', 'shortname':'A8', 'color': custom_pal[8]},\n",
    "    {'name': 'Annotation9', 'shortname':'A9', 'color': custom_pal[9]},\n",
    "    \n",
    "])\n",
    "\n",
    "annotation_info['id'] = annotation_info.index"
   ]
  },
  {
   "cell_type": "code",
   "execution_count": 8,
   "metadata": {
    "collapsed": true
   },
   "outputs": [],
   "source": [
    "name_to_shortname = {row.name: row.shortname for row in annotation_info.itertuples()}\n",
    "name_to_id = {row.name: row.id for row in annotation_info.itertuples()}\n",
    "shortname_to_row = {row.shortname: row for row in annotation_info.itertuples()}"
   ]
  },
  {
   "cell_type": "markdown",
   "metadata": {},
   "source": [
    "## Parse gmtk params file (Edit)"
   ]
  },
  {
   "cell_type": "code",
   "execution_count": 9,
   "metadata": {
    "collapsed": true
   },
   "outputs": [],
   "source": [
    "GMTK_PARAM_FILENAME = 'params 1.params'\n",
    "gmtk_param_df = gmtk_means_to_df(GMTK_PARAM_FILENAME).T"
   ]
  },
  {
   "cell_type": "code",
   "execution_count": 10,
   "metadata": {},
   "outputs": [
    {
     "data": {
      "text/html": [
       "<div>\n",
       "<style>\n",
       "    .dataframe thead tr:only-child th {\n",
       "        text-align: right;\n",
       "    }\n",
       "\n",
       "    .dataframe thead th {\n",
       "        text-align: left;\n",
       "    }\n",
       "\n",
       "    .dataframe tbody tr th {\n",
       "        vertical-align: top;\n",
       "    }\n",
       "</style>\n",
       "<table border=\"1\" class=\"dataframe\">\n",
       "  <thead>\n",
       "    <tr style=\"text-align: right;\">\n",
       "      <th>track</th>\n",
       "      <th>ENCSR000CIL_+</th>\n",
       "      <th>ENCSR000CIM_+</th>\n",
       "      <th>ENCSR000COK_+</th>\n",
       "      <th>ENCSR000CPS_+</th>\n",
       "    </tr>\n",
       "    <tr>\n",
       "      <th>label</th>\n",
       "      <th></th>\n",
       "      <th></th>\n",
       "      <th></th>\n",
       "      <th></th>\n",
       "    </tr>\n",
       "  </thead>\n",
       "  <tbody>\n",
       "    <tr>\n",
       "      <th>0</th>\n",
       "      <td>0.002440</td>\n",
       "      <td>0.005679</td>\n",
       "      <td>0.615884</td>\n",
       "      <td>0.930908</td>\n",
       "    </tr>\n",
       "    <tr>\n",
       "      <th>1</th>\n",
       "      <td>0.013082</td>\n",
       "      <td>0.013558</td>\n",
       "      <td>2.049281</td>\n",
       "      <td>1.414483</td>\n",
       "    </tr>\n",
       "    <tr>\n",
       "      <th>2</th>\n",
       "      <td>0.778701</td>\n",
       "      <td>0.665901</td>\n",
       "      <td>1.233042</td>\n",
       "      <td>0.677967</td>\n",
       "    </tr>\n",
       "    <tr>\n",
       "      <th>3</th>\n",
       "      <td>0.022213</td>\n",
       "      <td>0.024792</td>\n",
       "      <td>3.249750</td>\n",
       "      <td>2.503745</td>\n",
       "    </tr>\n",
       "  </tbody>\n",
       "</table>\n",
       "</div>"
      ],
      "text/plain": [
       "track  ENCSR000CIL_+  ENCSR000CIM_+  ENCSR000COK_+  ENCSR000CPS_+\n",
       "label                                                            \n",
       "0           0.002440       0.005679       0.615884       0.930908\n",
       "1           0.013082       0.013558       2.049281       1.414483\n",
       "2           0.778701       0.665901       1.233042       0.677967\n",
       "3           0.022213       0.024792       3.249750       2.503745"
      ]
     },
     "execution_count": 10,
     "metadata": {},
     "output_type": "execute_result"
    }
   ],
   "source": [
    "gmtk_param_df"
   ]
  },
  {
   "cell_type": "markdown",
   "metadata": {},
   "source": [
    "## Load annotation metadata (Edit)"
   ]
  },
  {
   "cell_type": "markdown",
   "metadata": {},
   "source": [
    "The annoation metadata are the metadata associated with each Segway tracks. \n",
    "- The first level keys should be the same as the columns of the `gmtk_param_df` defined above\n",
    "- The values of the second level dicts (Annotation1, ...) should all be defined in the `annotion_info` DF defined above"
   ]
  },
  {
   "cell_type": "code",
   "execution_count": 11,
   "metadata": {
    "collapsed": true
   },
   "outputs": [],
   "source": [
    "metadata_dicts = {\n",
    "    'ENCSR000CIL_+': {'Col1': 'Annotation1', 'Col2': 'Annotation2'},\n",
    "    'ENCSR000CIM_+': {'Col1': 'Annotation3', 'Col2': 'Annotation4'},\n",
    "    'ENCSR000COK_+': {'Col1': 'Annotation5', 'Col2': 'Annotation6'},\n",
    "    'ENCSR000CPS_+': {'Col1': 'Annotation7', 'Col2': 'Annotation8'},\n",
    "}\n",
    "annotation_df = pd.DataFrame(metadata_dicts).T"
   ]
  },
  {
   "cell_type": "code",
   "execution_count": 12,
   "metadata": {},
   "outputs": [
    {
     "data": {
      "text/html": [
       "<div>\n",
       "<style>\n",
       "    .dataframe thead tr:only-child th {\n",
       "        text-align: right;\n",
       "    }\n",
       "\n",
       "    .dataframe thead th {\n",
       "        text-align: left;\n",
       "    }\n",
       "\n",
       "    .dataframe tbody tr th {\n",
       "        vertical-align: top;\n",
       "    }\n",
       "</style>\n",
       "<table border=\"1\" class=\"dataframe\">\n",
       "  <thead>\n",
       "    <tr style=\"text-align: right;\">\n",
       "      <th></th>\n",
       "      <th>Col1</th>\n",
       "      <th>Col2</th>\n",
       "    </tr>\n",
       "  </thead>\n",
       "  <tbody>\n",
       "    <tr>\n",
       "      <th>ENCSR000CIL_+</th>\n",
       "      <td>Annotation1</td>\n",
       "      <td>Annotation2</td>\n",
       "    </tr>\n",
       "    <tr>\n",
       "      <th>ENCSR000CIM_+</th>\n",
       "      <td>Annotation3</td>\n",
       "      <td>Annotation4</td>\n",
       "    </tr>\n",
       "    <tr>\n",
       "      <th>ENCSR000COK_+</th>\n",
       "      <td>Annotation5</td>\n",
       "      <td>Annotation6</td>\n",
       "    </tr>\n",
       "    <tr>\n",
       "      <th>ENCSR000CPS_+</th>\n",
       "      <td>Annotation7</td>\n",
       "      <td>Annotation8</td>\n",
       "    </tr>\n",
       "  </tbody>\n",
       "</table>\n",
       "</div>"
      ],
      "text/plain": [
       "                      Col1         Col2\n",
       "ENCSR000CIL_+  Annotation1  Annotation2\n",
       "ENCSR000CIM_+  Annotation3  Annotation4\n",
       "ENCSR000COK_+  Annotation5  Annotation6\n",
       "ENCSR000CPS_+  Annotation7  Annotation8"
      ]
     },
     "execution_count": 12,
     "metadata": {},
     "output_type": "execute_result"
    }
   ],
   "source": [
    "annotation_df"
   ]
  },
  {
   "cell_type": "code",
   "execution_count": 13,
   "metadata": {
    "collapsed": true
   },
   "outputs": [],
   "source": [
    "colors = annotation_info.sort_values(by='id').color.tolist()\n",
    "annotation_cmap = mpl.colors.ListedColormap(colors)\n",
    "heatmap_cmap = sns.diverging_palette(220, 10, as_cmap=True)\n",
    "\n",
    "heatmap_df = annotation_df.replace(name_to_id)\n",
    "shortname_df = annotation_df.replace(name_to_shortname)"
   ]
  },
  {
   "cell_type": "markdown",
   "metadata": {},
   "source": [
    "## Prepare legends"
   ]
  },
  {
   "cell_type": "code",
   "execution_count": 14,
   "metadata": {},
   "outputs": [],
   "source": [
    "patches = {}\n",
    "\n",
    "for col in shortname_df.columns:\n",
    "    p_list = []\n",
    "    for ann in shortname_df[col].unique():\n",
    "        tup = shortname_to_row[ann]\n",
    "        p = mpatches.Patch(color=tup.color, label='{}: {}'.format(tup.shortname, tup.name), linestyle='solid')\n",
    "        p_list.append(p)\n",
    "    \n",
    "    patches[col] = p_list"
   ]
  },
  {
   "cell_type": "markdown",
   "metadata": {},
   "source": [
    "## Perform hierarchical clustering"
   ]
  },
  {
   "cell_type": "code",
   "execution_count": 15,
   "metadata": {
    "collapsed": true
   },
   "outputs": [],
   "source": [
    "track_dist = pdist(gmtk_param_df.T)\n",
    "track_linkage = sch.linkage(track_dist)\n",
    "track_leaves = sch.dendrogram(track_linkage, no_plot=True)['leaves']"
   ]
  },
  {
   "cell_type": "code",
   "execution_count": 16,
   "metadata": {
    "collapsed": true
   },
   "outputs": [],
   "source": [
    "label_dist = pdist(gmtk_param_df)\n",
    "label_linkage = sch.linkage(label_dist)\n",
    "label_leaves = sch.dendrogram(label_linkage, no_plot=True)['leaves']"
   ]
  },
  {
   "cell_type": "code",
   "execution_count": 17,
   "metadata": {
    "collapsed": true
   },
   "outputs": [],
   "source": [
    "n_label = gmtk_param_df.index.size"
   ]
  },
  {
   "cell_type": "code",
   "execution_count": 18,
   "metadata": {
    "collapsed": true
   },
   "outputs": [],
   "source": [
    "gmtk_final_df = gmtk_param_df.iloc[label_leaves, track_leaves].T"
   ]
  },
  {
   "cell_type": "markdown",
   "metadata": {},
   "source": [
    "## Raw parameters"
   ]
  },
  {
   "cell_type": "code",
   "execution_count": 19,
   "metadata": {},
   "outputs": [
    {
     "data": {
      "image/png": "[encoded data removed]",
      "text/plain": [
       "<matplotlib.figure.Figure at 0x7f6a375176d0>"
      ]
     },
     "metadata": {},
     "output_type": "display_data"
    }
   ],
   "source": [
    "FONT_SCALE = 1.5\n",
    "FIGSIZE = (10,6)\n",
    "\n",
    "# width ratio of the two heatmaps\n",
    "WIDTH_RATIO = [1, 2]\n",
    "\n",
    "# number of decimals to round the mean gmtk params\n",
    "ROUND_MEANS = 2\n",
    "\n",
    "# show means in the gmtk heatmap\n",
    "ANNOT = True\n",
    "\n",
    "# Columns for which to plot a lengend\n",
    "COLS = annotation_df.columns\n",
    "\n",
    "ROW_NORMALIZE = True\n",
    "\n",
    "if ROW_NORMALIZE:\n",
    "    param_df = gmtk_final_df.div(gmtk_final_df.max(1), axis=0)\n",
    "else:\n",
    "    param_df = gmtk_final_df\n",
    "\n",
    "sns.set(font_scale=FONT_SCALE)\n",
    "\n",
    "# Start plotting\n",
    "fig, axes = plt.subplots(1, 2, figsize=FIGSIZE, \n",
    "                         gridspec_kw={'width_ratios':WIDTH_RATIO}, sharey=True)\n",
    "\n",
    "fig.subplots_adjust(wspace=0.05)\n",
    "\n",
    "# Plot parameters heatmap\n",
    "params_ax = sns.heatmap(param_df.round(ROUND_MEANS), cmap=heatmap_cmap, ax=axes[1], \n",
    "                        linewidths=0.1, annot=ANNOT)\n",
    "\n",
    "# Plot the side annotation heatmap\n",
    "sns.heatmap(heatmap_df.loc[gmtk_final_df.index], cmap=annotation_cmap, cbar=None, ax=axes[0], \n",
    "            linewidths=0.1)\n",
    "\n",
    "# Populate the annotation heatmap with annotation shortnames\n",
    "annotate_heatmap(shortname_df.loc[gmtk_final_df.index], axes[0], {'fontsize': 14})\n",
    "\n",
    "# Plot legends\n",
    "for i, col in enumerate(COLS[:-1]):\n",
    "    legend = plt.legend(handles=patches[col], bbox_to_anchor=(1.5, 1 - i*0.2), \n",
    "                        loc=2, borderaxespad=0., title=col)\n",
    "    ax = plt.gca().add_artist(legend)\n",
    "\n",
    "legend = plt.legend(handles=patches[COLS[-1]], bbox_to_anchor=(1.5, 1 - len(COLS)*0.2),\n",
    "                    loc=2, borderaxespad=0., title=COLS[-1])\n",
    "\n",
    "axes[0].set_ylabel('')\n",
    "axes[1].set_ylabel('')\n",
    "axes[1].set_xlabel('Label')\n",
    "axes[0].set_title('Metadata')\n",
    "axes[1].set_title('SegRNA trained model')\n",
    "\n",
    "cbar = params_ax.collections[0].colorbar\n",
    "cbar.ax.set_xlabel('\\nSignal \\nintensity')\n",
    "\n",
    "if ROW_NORMALIZE:\n",
    "    cbar.set_ticks([0, 0.5, 1])\n",
    "    cbar.set_ticklabels(['Row \\nmin (0)', '0.5', 'Row \\nmax (1)'])\n",
    "\n",
    "plt.tight_layout()\n",
    "\n",
    "fig.savefig('{}/gmtk_params.png'.format(GMTK_OUTPUT_DIR), bbox_inches='tight')\n",
    "fig.savefig('{}/gmtk_params.svg'.format(GMTK_OUTPUT_DIR), bbox_inches='tight')"
   ]
  },
  {
   "cell_type": "code",
   "execution_count": null,
   "metadata": {
    "collapsed": true
   },
   "outputs": [],
   "source": []
  }
 ],
 "metadata": {
  "anaconda-cloud": {},
  "kernelspec": {
   "display_name": "Python 2",
   "language": "python",
   "name": "python2"
  },
  "language_info": {
   "codemirror_mode": {
    "name": "ipython",
    "version": 2
   },
   "file_extension": ".py",
   "mimetype": "text/x-python",
   "name": "python",
   "nbconvert_exporter": "python",
   "pygments_lexer": "ipython2",
   "version": "2.7.11"
  },
  "nbpresent": {
   "slides": {},
   "themes": {
    "default": "6c28a724-3193-4bef-ada2-242cf2dcb469",
    "theme": {
     "6c28a724-3193-4bef-ada2-242cf2dcb469": {
      "id": "6c28a724-3193-4bef-ada2-242cf2dcb469",
      "palette": {
       "19cc588f-0593-49c9-9f4b-e4d7cc113b1c": {
        "id": "19cc588f-0593-49c9-9f4b-e4d7cc113b1c",
        "rgb": [
         252,
         252,
         252
        ]
       },
       "31af15d2-7e15-44c5-ab5e-e04b16a89eff": {
        "id": "31af15d2-7e15-44c5-ab5e-e04b16a89eff",
        "rgb": [
         68,
         68,
         68
        ]
       },
       "50f92c45-a630-455b-aec3-788680ec7410": {
        "id": "50f92c45-a630-455b-aec3-788680ec7410",
        "rgb": [
         155,
         177,
         192
        ]
       },
       "c5cc3653-2ee1-402a-aba2-7caae1da4f6c": {
        "id": "c5cc3653-2ee1-402a-aba2-7caae1da4f6c",
        "rgb": [
         43,
         126,
         184
        ]
       },
       "efa7f048-9acb-414c-8b04-a26811511a21": {
        "id": "efa7f048-9acb-414c-8b04-a26811511a21",
        "rgb": [
         25.118061674008803,
         73.60176211453744,
         107.4819383259912
        ]
       }
      },
      "rules": {
       "blockquote": {
        "color": "50f92c45-a630-455b-aec3-788680ec7410"
       },
       "code": {
        "font-family": "Anonymous Pro"
       },
       "h1": {
        "color": "c5cc3653-2ee1-402a-aba2-7caae1da4f6c",
        "font-family": "Lato",
        "font-size": 8
       },
       "h2": {
        "color": "c5cc3653-2ee1-402a-aba2-7caae1da4f6c",
        "font-family": "Lato",
        "font-size": 6
       },
       "h3": {
        "color": "50f92c45-a630-455b-aec3-788680ec7410",
        "font-family": "Lato",
        "font-size": 5.5
       },
       "h4": {
        "color": "c5cc3653-2ee1-402a-aba2-7caae1da4f6c",
        "font-family": "Lato",
        "font-size": 5
       },
       "h5": {
        "font-family": "Lato"
       },
       "h6": {
        "font-family": "Lato"
       },
       "h7": {
        "font-family": "Lato"
       },
       "pre": {
        "font-family": "Anonymous Pro",
        "font-size": 4
       }
      },
      "text-base": {
       "font-family": "Merriweather",
       "font-size": 4
      }
     }
    }
   }
  }
 },
 "nbformat": 4,
 "nbformat_minor": 1
}
